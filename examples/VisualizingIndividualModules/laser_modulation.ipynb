{
 "cells": [
  {
   "cell_type": "markdown",
   "metadata": {},
   "source": [
    "# Defining Laser Modulation"
   ]
  },
  {
   "cell_type": "code",
   "execution_count": 1,
   "metadata": {},
   "outputs": [
    {
     "name": "stdout",
     "output_type": "stream",
     "text": [
      "cell_type='RectangularCell' params={'bounds': [4, 7, 3, 9, -0.5, 0.5]}\n"
     ]
    }
   ],
   "source": [
    "from AMS_BP.configio.configmodels import CellParameters\n",
    "\n",
    "\"\"\"\n",
    "cell_space = [x_min, x_max, y_min, y_max, z_min, z_max] #um\n",
    "\"\"\"\n",
    "cellp = CellParameters(cell_type=\"RectangularCell\",params = {\"bounds\":[4, 7, 3, 9,-0.5,0.5]})\n",
    "\n",
    "print(cellp)"
   ]
  },
  {
   "cell_type": "code",
   "execution_count": 2,
   "metadata": {},
   "outputs": [
    {
     "name": "stdout",
     "output_type": "stream",
     "text": [
      "RectangularCell(mesh=PolyData (0x14b6666e0)\n",
      "  N Cells:    12\n",
      "  N Points:   8\n",
      "  N Strips:   0\n",
      "  X Bounds:   4.000e+00, 7.000e+00\n",
      "  Y Bounds:   3.000e+00, 9.000e+00\n",
      "  Z Bounds:   -5.000e-01, 5.000e-01\n",
      "  N Arrays:   2, bounds=[4, 7, 3, 9, -0.5, 0.5])\n"
     ]
    }
   ],
   "source": [
    "from AMS_BP.configio.convertconfig import make_cell\n",
    "\n",
    "rcell = make_cell(cellp)\n",
    "print(\n",
    "    rcell\n",
    ")  # z=0 is always the origin. origin + dimensions = x_max, y_max, z_range. z_range = 2 * | cell_axial_radius |"
   ]
  },
  {
   "cell_type": "code",
   "execution_count": 3,
   "metadata": {},
   "outputs": [],
   "source": [
    "from AMS_BP.configio.configmodels import MoleculeParameters\n",
    "\n",
    "num_molecules = [10000]  \n",
    "track_type = [\n",
    "    \"constant\",\n",
    "]  \n",
    "allow_transition_probability = [\n",
    "    False,\n",
    "]  \n",
    "\n",
    "diffusion_coefficient = [\n",
    "    [\n",
    "        0.0,\n",
    "        0.0,\n",
    "    ],\n",
    "]  \n",
    "diffusion_track_amount = [\n",
    "    [\n",
    "        0.5,\n",
    "        0.5,\n",
    "    ],\n",
    "]  \n",
    "hurst_exponent = [\n",
    "    [\n",
    "        0.5,\n",
    "        0.5,\n",
    "    ],\n",
    "\n",
    "]  \n",
    "hurst_track_amount = [\n",
    "    [\n",
    "        0.5,\n",
    "        0.5,\n",
    "    ],\n",
    "\n",
    "]  # same structure as diffusion_track_amount.\n",
    "\n",
    "diffusion_transition_matrix = [\n",
    "    [\n",
    "        [\n",
    "            0.992,\n",
    "            0.008,\n",
    "        ],\n",
    "        [\n",
    "            0.0273,\n",
    "            0.9727,\n",
    "        ],\n",
    "    ],\n",
    "\n",
    "]  # transition matrix for diffusion coefficients. For a particular molecule type, the probability of transitioning from one diffusion coefficient to another is given by the transition matrix. The size of the matrix is the number of diffusion coefficients for that molecule type. The rows are the current diffusion coefficient and the columns are the new diffusion coefficient.\n",
    "hurst_transition_matrix = [\n",
    "    [\n",
    "        [\n",
    "            0.992,\n",
    "            0.008,\n",
    "        ],\n",
    "        [\n",
    "            0.0273,\n",
    "            0.9727,\n",
    "        ],\n",
    "    ],\n",
    "\n",
    "]  # same as diffusion_transition_matrix but  for hurst exponents.\n",
    "transition_matrix_time_step = [\n",
    "    20,\n",
    "]  # the time step at which the probabilities for the transition matrices are defined. In units of milliseconds.\n"
   ]
  },
  {
   "cell_type": "code",
   "execution_count": 4,
   "metadata": {},
   "outputs": [
    {
     "name": "stdout",
     "output_type": "stream",
     "text": [
      "num_molecules=[10000] track_type=['constant'] diffusion_coefficient=array([[0., 0.]]) hurst_exponent=array([[0.5, 0.5]]) allow_transition_probability=[False] transition_matrix_time_step=[20] diffusion_transition_matrix=array([[[0.992 , 0.008 ],\n",
      "        [0.0273, 0.9727]]]) hurst_transition_matrix=array([[[0.992 , 0.008 ],\n",
      "        [0.0273, 0.9727]]]) state_probability_diffusion=array([[0.5, 0.5]]) state_probability_hurst=array([[0.5, 0.5]])\n"
     ]
    }
   ],
   "source": [
    "# combine it into one data structure\n",
    "molecule_parameters = MoleculeParameters(\n",
    "    num_molecules=num_molecules,\n",
    "    track_type=track_type,\n",
    "    diffusion_coefficient=diffusion_coefficient,\n",
    "    state_probability_diffusion=diffusion_track_amount,\n",
    "    hurst_exponent=hurst_exponent,\n",
    "    state_probability_hurst=hurst_track_amount,\n",
    "    allow_transition_probability=allow_transition_probability,\n",
    "    transition_matrix_time_step=transition_matrix_time_step,\n",
    "    diffusion_transition_matrix=diffusion_transition_matrix,\n",
    "    hurst_transition_matrix=hurst_transition_matrix,\n",
    ")\n",
    "print(molecule_parameters)"
   ]
  },
  {
   "cell_type": "code",
   "execution_count": 5,
   "metadata": {},
   "outputs": [
    {
     "name": "stdout",
     "output_type": "stream",
     "text": [
      "sample_plane_dim=array([10., 10.]) cycle_count=100 exposure_time=20 interval_time=0 oversample_motion_time=10\n"
     ]
    }
   ],
   "source": [
    "sample_plane_dim = [\n",
    "    10,\n",
    "    10,\n",
    "]  # in um. Describes the size of the plane on which the sample is placed.\n",
    "cycle_count = 100  # Number of cycles to run the simulation for. (this would be the # of frames in a movies if a time series)\n",
    "# cycle_count is 1 for each exposure_time + interval_time in the simulation.\n",
    "exposure_time = 20  # in ms\n",
    "interval_time = 0  # in ms\n",
    "oversample_motion_time = 10  # this is the smallest time step in the simulation for the motion of the molecules. Both the exposure_time and interval_time need to be equal to or larger than this, or be 0.\n",
    "\n",
    "from AMS_BP.configio.convertconfig import GlobalParameters\n",
    "\n",
    "globalp = GlobalParameters(\n",
    "    sample_plane_dim=sample_plane_dim,\n",
    "    cycle_count=cycle_count,\n",
    "    exposure_time=exposure_time,\n",
    "    interval_time=interval_time,\n",
    "    oversample_motion_time=oversample_motion_time,\n",
    ")\n",
    "print(globalp)"
   ]
  },
  {
   "cell_type": "code",
   "execution_count": 6,
   "metadata": {},
   "outputs": [
    {
     "name": "stdout",
     "output_type": "stream",
     "text": [
      "initial_centers=[[[5.5, 5.0, 0.05], [5.0, 7.0, -0.15]]] initial_scale=[[0.26, 0.26]] diffusion_coefficient=[[0.0, 0.0]] hurst_exponent=[[0.2, 0.2]] density_dif=[10]\n"
     ]
    }
   ],
   "source": [
    "initial_centers = [\n",
    "    [\n",
    "        [\n",
    "            5.5,\n",
    "            5,\n",
    "            0.05,\n",
    "        ],\n",
    "        [\n",
    "            5,\n",
    "            7,\n",
    "            -0.15,\n",
    "        ],\n",
    "    ],\n",
    "] # first dimension is the types of molecules. (see num_molecules) For each type there can be any number of condensates with centers [x,y,z]\n",
    "initial_scale = [ [0.26, 0.26]] # um\n",
    "diffusion_coefficient = [ [0, 0]] # um^2/s\n",
    "hurst_exponent = [ [0.2, 0.2]]\n",
    "density_dif = [ 10] # density of the condensate vs the background.\n",
    "\n",
    "from AMS_BP.configio.convertconfig import CondensateParameters\n",
    "condp = CondensateParameters(\n",
    "    initial_centers=initial_centers,\n",
    "    initial_scale=initial_scale,\n",
    "    diffusion_coefficient=diffusion_coefficient,\n",
    "    hurst_exponent=hurst_exponent,\n",
    "    density_dif=density_dif,\n",
    ")\n",
    "print(condp)"
   ]
  },
  {
   "cell_type": "code",
   "execution_count": 7,
   "metadata": {},
   "outputs": [],
   "source": [
    "from AMS_BP.configio.convertconfig import OutputParameters\n",
    "outp = OutputParameters(\n",
    "    output_path = \"blah/blahblah\",\n",
    "    output_name = \"datamoviename\",\n",
    "    subsegment_type = \"any_string\",\n",
    "    subsegment_number = 1, # any integer\n",
    ")"
   ]
  },
  {
   "cell_type": "code",
   "execution_count": 8,
   "metadata": {},
   "outputs": [],
   "source": [
    "from AMS_BP.configio.convertconfig import ConfigList\n",
    "config_list = ConfigList(\n",
    "    CellParameters = cellp,\n",
    "    MoleculeParameters = molecule_parameters,\n",
    "    GlobalParameters = globalp,\n",
    "    CondensateParameters = condp,\n",
    "    OutputParameters = outp,\n",
    ")"
   ]
  },
  {
   "cell_type": "code",
   "execution_count": 9,
   "metadata": {},
   "outputs": [],
   "source": [
    "num_of_fluorophores = 1\n",
    "fluorophore_names = [\"PAmCherry\"]\n"
   ]
  },
  {
   "cell_type": "code",
   "execution_count": 10,
   "metadata": {},
   "outputs": [
    {
     "name": "stdout",
     "output_type": "stream",
     "text": [
      "name='PAmCherry' states={'bright': State(name='bright', state_type=<StateType.FLUORESCENT: 'fluorescent'>, excitation_spectrum=SpectralData(wavelengths=[310.0, 311.0, 411.0, 511.0, 611.0, 612.0], values=[0.0, 0.047, 0.0043, 0.6, 0.06, 0.0], cache_values={310.0: 0.0, 311.0: 0.047, 411.0: 0.0043, 511.0: 0.6, 611.0: 0.06, 612.0: 0.0}), emission_spectrum=SpectralData(wavelengths=[530.0, 529.0, 600.0, 650.0, 700.0, 797.0, 799.0], values=[0.0, 0.02, 0.98, 0.28, 0.05, 0.003, 0.0], cache_values={530.0: 0.0, 529.0: 0.02, 600.0: 0.98, 650.0: 0.28, 700.0: 0.05, 797.0: 0.003, 799.0: 0.0}), quantum_yield_lambda_val=0.46, quantum_yield=WavelengthDependentProperty(wavelengths=[530.0, 529.0, 600.0, 650.0, 700.0, 797.0, 799.0], values=[0.0, 0.009387755102040816, 0.46, 0.13142857142857145, 0.023469387755102045, 0.0014081632653061226, 0.0], cache_values={530.0: 0.0, 529.0: 0.009387755102040816, 600.0: 0.46, 650.0: 0.13142857142857145, 700.0: 0.023469387755102045, 797.0: 0.0014081632653061226, 799.0: 0.0}), extinction_coefficient_lambda_val=18000.0, extinction_coefficient=WavelengthDependentProperty(wavelengths=[310.0, 311.0, 411.0, 511.0, 611.0, 612.0], values=[0.0, 1410.0, 129.0, 18000.0, 1800.0, 0.0], cache_values={310.0: 0.0, 311.0: 1410.0, 411.0: 129.0, 511.0: 18000.0, 611.0: 1800.0, 612.0: 0.0}), ex_max=511.0, em_max=600.0, molar_cross_section=WavelengthDependentProperty(wavelengths=[310.0, 311.0, 411.0, 511.0, 611.0, 612.0], values=[0.0, 5.39118082839632e-18, 4.932356928107271e-19, 6.882358504335727e-17, 6.882358504335727e-18, 0.0], cache_values={310.0: 0.0, 311.0: 5.39118082839632e-18, 411.0: 4.932356928107271e-19, 511.0: 6.882358504335727e-17, 611.0: 6.882358504335727e-18, 612.0: 0.0}), fluorescent_lifetime=1e-09, fluorescent_lifetime_inverse=999999999.9999999), 'dark': State(name='dark', state_type=<StateType.DARK: 'dark'>, excitation_spectrum=None, emission_spectrum=None, quantum_yield_lambda_val=None, quantum_yield=None, extinction_coefficient_lambda_val=None, extinction_coefficient=None, ex_max=None, em_max=None, molar_cross_section=None, fluorescent_lifetime=None, fluorescent_lifetime_inverse=None), 'triplet': State(name='triplet', state_type=<StateType.DARK: 'dark'>, excitation_spectrum=None, emission_spectrum=None, quantum_yield_lambda_val=None, quantum_yield=None, extinction_coefficient_lambda_val=None, extinction_coefficient=None, ex_max=None, em_max=None, molar_cross_section=None, fluorescent_lifetime=None, fluorescent_lifetime_inverse=None), 'bleached': State(name='bleached', state_type=<StateType.BLEACHED: 'bleached'>, excitation_spectrum=None, emission_spectrum=None, quantum_yield_lambda_val=None, quantum_yield=None, extinction_coefficient_lambda_val=None, extinction_coefficient=None, ex_max=None, em_max=None, molar_cross_section=None, fluorescent_lifetime=None, fluorescent_lifetime_inverse=None)} transitions={'dark_bright': StateTransition(from_state='dark', to_state='bright', spectrum=SpectralData(wavelengths=[308.0, 309.0, 359.0, 403.0, 440.0, 484.0, 485.0], values=[0.0, 0.04, 0.11, 1.0, 0.07, 0.0004, 0.0], cache_values={308.0: 0.0, 309.0: 0.04, 359.0: 0.11, 403.0: 1.0, 440.0: 0.07, 484.0: 0.0004, 485.0: 0.0}), extinction_coefficient_lambda_val=6500.0, extinction_coefficient=WavelengthDependentProperty(wavelengths=[308.0, 309.0, 359.0, 403.0, 440.0, 484.0, 485.0], values=[0.0, 260.0, 715.0, 6500.0, 455.00000000000006, 2.6, 0.0], cache_values={308.0: 0.0, 309.0: 260.0, 359.0: 715.0, 403.0: 6500.0, 440.0: 455.00000000000006, 484.0: 2.6, 485.0: 0.0}), cross_section=WavelengthDependentProperty(wavelengths=[308.0, 309.0, 359.0, 403.0, 440.0, 484.0, 485.0], values=[0.0, 9.941184506262718e-19, 2.7338257392222474e-18, 2.4852961265656793e-17, 1.739707288595976e-18, 9.941184506262717e-21, 0.0], cache_values={308.0: 0.0, 309.0: 9.941184506262718e-19, 359.0: 2.7338257392222474e-18, 403.0: 2.4852961265656793e-17, 440.0: 1.739707288595976e-18, 484.0: 9.941184506262717e-21, 485.0: 0.0}), base_rate=None, quantum_yield=5e-06), 'bright_bleached': StateTransition(from_state='bright', to_state='bleached', spectrum=SpectralData(wavelengths=[310.0, 311.0, 411.0, 511.0, 611.0, 612.0], values=[0.0, 0.047, 0.0043, 0.6, 0.06, 0.0], cache_values={310.0: 0.0, 311.0: 0.047, 411.0: 0.0043, 511.0: 0.6, 611.0: 0.06, 612.0: 0.0}), extinction_coefficient_lambda_val=18000.0, extinction_coefficient=WavelengthDependentProperty(wavelengths=[310.0, 311.0, 411.0, 511.0, 611.0, 612.0], values=[0.0, 1410.0, 129.0, 18000.0, 1800.0, 0.0], cache_values={310.0: 0.0, 311.0: 1410.0, 411.0: 129.0, 511.0: 18000.0, 611.0: 1800.0, 612.0: 0.0}), cross_section=WavelengthDependentProperty(wavelengths=[310.0, 311.0, 411.0, 511.0, 611.0, 612.0], values=[0.0, 5.39118082839632e-18, 4.932356928107271e-19, 6.882358504335727e-17, 6.882358504335727e-18, 0.0], cache_values={310.0: 0.0, 311.0: 5.39118082839632e-18, 411.0: 4.932356928107271e-19, 511.0: 6.882358504335727e-17, 611.0: 6.882358504335727e-18, 612.0: 0.0}), base_rate=None, quantum_yield=5e-06), 'bright_triplet': StateTransition(from_state='bright', to_state='triplet', spectrum=None, extinction_coefficient_lambda_val=None, extinction_coefficient=None, cross_section=None, base_rate=1.0, quantum_yield=None), 'triplet_dark': StateTransition(from_state='triplet', to_state='dark', spectrum=None, extinction_coefficient_lambda_val=None, extinction_coefficient=None, cross_section=None, base_rate=1.0, quantum_yield=None)} initial_state=State(name='dark', state_type=<StateType.DARK: 'dark'>, excitation_spectrum=None, emission_spectrum=None, quantum_yield_lambda_val=None, quantum_yield=None, extinction_coefficient_lambda_val=None, extinction_coefficient=None, ex_max=None, em_max=None, molar_cross_section=None, fluorescent_lifetime=None, fluorescent_lifetime_inverse=None)\n"
     ]
    }
   ],
   "source": [
    "from AMS_BP.sample.flurophores.flurophore_schema import Fluorophore, State, StateTransition, SpectralData\n",
    "# PAmCherry\n",
    "pamcherry_f = {\n",
    "    \"name\" : 'PAmCherry',\n",
    "    \"initial_state\" : \"dark\", # must be one of the defined states below.\n",
    "}\n",
    "bright_state = State(\n",
    "            name = \"bright\",\n",
    "            state_type = \"fluorescent\", # one of \"fluorescent\" or \"dark\" or \"bleached\"\n",
    "            quantum_yield_lambda_val = 0.46, # unitless; 0-1\n",
    "            extinction_coefficient_lambda_val = 18000, # in M^-1 cm^-1\n",
    "            fluorescent_lifetime = 0.000000001, # in seconds\n",
    "            excitation_spectrum = SpectralData(\n",
    "                    wavelengths = [310.0, 311.0, 411.0, 511.0, 611.0, 612.0], # in nm\n",
    "                    intensities = [0.00, 0.047, 0.0043, 0.6, 0.06, 0.00], # in arbitrary units\n",
    "                ),\n",
    "            emission_spectrum = SpectralData(\n",
    "                    wavelengths = [530.0, 529.0, 600.0, 650.0, 700.0, 797.0, 799.0], # in nm\n",
    "                    intensities = [0.00, 0.02, 0.98, 0.28, 0.05, 0.003, 0.00], # in arbitrary units\n",
    "                ),\n",
    "            )\n",
    "dark_state = State(\n",
    "            name = \"dark\",\n",
    "            state_type = \"dark\", # one of \"fluorescent\" or \"dark\" or \"bleached\"\n",
    "            quantum_yield_lambda_val = None,\n",
    "            extinction_coefficient_lambda_val = None,\n",
    "            fluorescent_lifetime = None,\n",
    "            excitation_spectrum = None,\n",
    "            emission_spectrum = None,\n",
    "            )\n",
    "triplet_state = State(\n",
    "            name = \"triplet\",\n",
    "            state_type = \"dark\", # one of \"fluorescent\" or \"dark\" or \"bleached\"\n",
    "            quantum_yield_lambda_val = None,\n",
    "            extinction_coefficient_lambda_val = None,\n",
    "            fluorescent_lifetime = None,\n",
    "            excitation_spectrum = None,\n",
    "            emission_spectrum = None,\n",
    "            )\n",
    "bleached_state = State(\n",
    "            name = \"bleached\",\n",
    "            state_type = \"bleached\", # one of \"fluorescent\" or \"dark\" or \"bleached\"\n",
    "            quantum_yield_lambda_val = None,\n",
    "            extinction_coefficient_lambda_val = None,\n",
    "            fluorescent_lifetime = None,\n",
    "            excitation_spectrum = None,\n",
    "            emission_spectrum = None,\n",
    "            )\n",
    "transition_DtB = StateTransition(\n",
    "    from_state = \"dark\",\n",
    "    to_state = \"bright\",\n",
    "    photon_dependent = True,\n",
    "    spectrum = SpectralData(\n",
    "        wavelengths = [308.0, 309.0, 359.0, 403.0, 440.0, 484.0, 485.0], # in nm\n",
    "        intensities = [0.00, 0.04, 0.11, 1.0, 0.07, 0.0004, 0.00], # in arbitrary units\n",
    "        ),\n",
    "    extinction_coefficient_lambda_val = 6500,                                   # M^-1 cm^-1\n",
    "    quantum_yield = 0.000005,                \n",
    "    )\n",
    "transition_BtB = StateTransition(\n",
    "    from_state = \"bright\",\n",
    "    to_state = \"bleached\",\n",
    "    photon_dependent = True,\n",
    "    spectrum = SpectralData(\n",
    "        wavelengths = [310.0, 311.0, 411.0, 511.0, 611.0, 612.0], # in nm\n",
    "        intensities = [0.00, 0.047, 0.0043, 0.6, 0.06, 0.00], # in arbitrary units\n",
    "        ),\n",
    "    extinction_coefficient_lambda_val = 18000,                                   # M^-1 cm^-1\n",
    "    quantum_yield = 0.000005,\n",
    "    )\n",
    "\n",
    "transition_BtT = StateTransition(\n",
    "    from_state = \"bright\",\n",
    "    to_state = \"triplet\",\n",
    "    photon_dependent = False,\n",
    "    base_rate = 1, #1/s\n",
    "    spectrum = None,\n",
    "    extinction_coefficient = None,\n",
    "    quantum_yield = None,\n",
    "    )\n",
    "transition_TtD = StateTransition(\n",
    "    from_state = \"triplet\",\n",
    "    to_state = \"dark\",\n",
    "    photon_dependent = False,\n",
    "    base_rate = 1, #1/s\n",
    "    spectrum = None,\n",
    "    extinction_coefficient = None,\n",
    "    quantum_yield = None,\n",
    "    )\n",
    "transitions = {\n",
    "    \"dark_bright\" : transition_DtB,\n",
    "    \"bright_bleached\" : transition_BtB,\n",
    "    \"bright_triplet\" : transition_BtT,\n",
    "    \"triplet_dark\" : transition_TtD,\n",
    "}\n",
    "# fluorophore definition\n",
    "fpamcherry = Fluorophore(\n",
    "    name = pamcherry_f['name'],\n",
    "    initial_state = dark_state,\n",
    "    states = {\n",
    "        \"bright\" : bright_state,\n",
    "        \"dark\" : dark_state,\n",
    "        \"triplet\" : triplet_state,\n",
    "        \"bleached\" : bleached_state,\n",
    "        },\n",
    "    transitions = transitions,\n",
    "    )\n",
    "print(fpamcherry)"
   ]
  },
  {
   "cell_type": "code",
   "execution_count": 11,
   "metadata": {},
   "outputs": [
    {
     "name": "stdout",
     "output_type": "stream",
     "text": [
      "QuantumEfficiency(wavelength_qe={399: 0.0, 400: 0.8, 500: 0.9, 600: 0.95, 700: 0.9, 800: 0.7, 900: 0.4, 901: 0.0}, _cached_wavelength_qe={399: 0.0, 400: 0.8, 500: 0.9, 600: 0.95, 700: 0.9, 800: 0.7, 900: 0.4, 901: 0.0})\n"
     ]
    }
   ],
   "source": [
    "# Quantum efficiency curve (wavelength in nm : efficiency 0-1)\n",
    "# extrapotation for wavelengths not included uses edge values\n",
    "quantum_efficiency = [\n",
    "    [\n",
    "        399,\n",
    "        0.00,\n",
    "    ],\n",
    "    [\n",
    "        400,\n",
    "        0.80,\n",
    "    ],\n",
    "    [\n",
    "        500,\n",
    "        0.90,\n",
    "    ],\n",
    "    [\n",
    "        600,\n",
    "        0.95,\n",
    "    ],\n",
    "    [\n",
    "        700,\n",
    "        0.90,\n",
    "    ],\n",
    "    [\n",
    "        800,\n",
    "        0.70,\n",
    "    ],\n",
    "    [\n",
    "        900,\n",
    "        0.40,\n",
    "    ],\n",
    "    [\n",
    "        901,\n",
    "        0.00,\n",
    "    ],\n",
    "]\n",
    "wavelength_qe = {pair[0]: pair[1] for pair in quantum_efficiency}\n",
    "\n",
    "\n",
    "from AMS_BP.optics.camera.quantum_eff import QuantumEfficiency\n",
    "quantum_efficiency = QuantumEfficiency(wavelength_qe=wavelength_qe)\n",
    "print(quantum_efficiency)"
   ]
  },
  {
   "cell_type": "code",
   "execution_count": 12,
   "metadata": {},
   "outputs": [
    {
     "name": "stdout",
     "output_type": "stream",
     "text": [
      "<AMS_BP.optics.camera.detectors.CMOSDetector object at 0x149ebb8c0>\n"
     ]
    }
   ],
   "source": [
    "from AMS_BP.optics.camera.detectors import CMOSDetector\n",
    "pixel_count = [190, 190]  # [width, height], 1200x1200 (x pixel_size)\n",
    "pixel_detector_size = 6.5 # um\n",
    "magnification = 100\n",
    "dark_current = 0.0005     # electrons/pixel/second\n",
    "readout_noise = 1.6       # electrons RMS\n",
    "bit_depth = 16\n",
    "sensitivity = 1.0         # electrons/ADU\n",
    "base_adu = 100            #ADU\n",
    "binning_size = 1          # 1x1 , if 2 then 2x2\n",
    "detector = CMOSDetector(\n",
    "    pixel_count=pixel_count,\n",
    "    pixel_detector_size=pixel_detector_size,\n",
    "    magnification=magnification,\n",
    "    dark_current=dark_current,\n",
    "    readout_noise=readout_noise,\n",
    "    bit_depth=bit_depth,\n",
    "    sensitivity=sensitivity,\n",
    "    base_adu=base_adu,\n",
    "    binning_size=binning_size,\n",
    "    pixel_size = pixel_detector_size/magnification,\n",
    ")\n",
    "print(detector)"
   ]
  },
  {
   "cell_type": "code",
   "execution_count": 13,
   "metadata": {},
   "outputs": [
    {
     "name": "stdout",
     "output_type": "stream",
     "text": [
      "<function make_psf.<locals>.Partial_PSFengine at 0x14b63ab60>\n"
     ]
    }
   ],
   "source": [
    "from AMS_BP.optics.psf.psf_engine import PSFEngine, PSFParameters\n",
    "from typing import Optional\n",
    "\n",
    "params_config = {\n",
    "    \"numerical_aperture\": 1.4,\n",
    "    \"refractive_index\": 1.0,\n",
    "    # \"pinhole_diameter\": 0.002, # do not include is no pinhole.\n",
    "}\n",
    "\n",
    "\n",
    "def make_psf(params_config: dict, pixel_size: int | float) -> PSFEngine:\n",
    "    def Partial_PSFengine(\n",
    "                wavelength: int | float, z_step: Optional[int | float] = None\n",
    "            ):\n",
    "                # Create PSFParameters instance\n",
    "                parameters = PSFParameters(\n",
    "                    emission_wavelength=wavelength,\n",
    "                    numerical_aperture=float(params_config[\"numerical_aperture\"]),\n",
    "                    pixel_size=pixel_size,\n",
    "                    z_step=float(params_config[\"z_step\"]) if z_step is None else z_step,\n",
    "                    refractive_index=float(params_config.get(\"refractive_index\", 1.0)),\n",
    "                    pinhole_diameter=params_config.get(\"pinhole_diameter\", None),\n",
    "                )\n",
    "\n",
    "                # Create PSF engine\n",
    "                psf_engine = PSFEngine(parameters)\n",
    "                return psf_engine\n",
    "    return Partial_PSFengine\n",
    "psf_generator = make_psf(params_config, pixel_size=(pixel_detector_size/magnification))\n",
    "print(psf_generator)"
   ]
  },
  {
   "cell_type": "code",
   "execution_count": 14,
   "metadata": {},
   "outputs": [],
   "source": [
    "from AMS_BP.optics.filters.channels.channelschema import Channels\n",
    "from AMS_BP.optics.filters.filters import create_allow_all_filter, create_bandpass_filter, FilterSet"
   ]
  },
  {
   "cell_type": "code",
   "execution_count": 15,
   "metadata": {},
   "outputs": [],
   "source": [
    "c1filterset = FilterSet(\n",
    "    name = \"c1\",\n",
    "    excitation = create_allow_all_filter(points = 1000),\n",
    "    dichroic = create_allow_all_filter(points = 1000),\n",
    "    emission = create_bandpass_filter(\n",
    "        center_wavelength = 600.0,\n",
    "        bandwidth = 35,\n",
    "        transmission_peak = 0.95,\n",
    "        points = 1000,\n",
    "    ),\n",
    ")\n",
    "channels = Channels(\n",
    "    filtersets = [c1filterset],\n",
    "    num_channels = 1,\n",
    "    splitting_efficiency = [1],\n",
    "    names = [\"c1\"],\n",
    ")"
   ]
  },
  {
   "cell_type": "markdown",
   "metadata": {},
   "source": [
    "### Define Functions for Laser Modulation"
   ]
  },
  {
   "cell_type": "code",
   "execution_count": 16,
   "metadata": {},
   "outputs": [
    {
     "name": "stdout",
     "output_type": "stream",
     "text": [
      "<AMS_BP.optics.lasers.laser_profiles.WidefieldBeam object at 0x14b641190> <AMS_BP.optics.lasers.laser_profiles.WidefieldBeam object at 0x14b6427b0>\n"
     ]
    }
   ],
   "source": [
    "from AMS_BP.optics.lasers.laser_profiles import LaserParameters, WidefieldBeam\n",
    "\n",
    "# two lasers, 405 and 600 nm both widefield\n",
    "laser_params_600 = LaserParameters(\n",
    "    power = 50000,           # Power in watts \n",
    "    wavelength = 600,         # Wavelength in nanometers\n",
    "    beam_width = 5.0,         # 1/e² beam width at waist in microns\n",
    "    numerical_aperture = 1.4, # NA of focusing lens\n",
    "    refractive_index = 1.518,\n",
    ")\n",
    "\n",
    "def lpb(t):\n",
    "    # t in s\n",
    "    if t <=0.02:\n",
    "        return 0\n",
    "    else:\n",
    "        return 0.05\n",
    "\n",
    "laser_params_405 = LaserParameters(\n",
    "    power = 5,\n",
    "    wavelength = 405,\n",
    "    beam_width = 5.0,\n",
    "    numerical_aperture = 1.4,\n",
    "    refractive_index = 1.518,\n",
    ")\n",
    "wide600 = WidefieldBeam(laser_params_600)\n",
    "wide405 = WidefieldBeam(laser_params_405)\n",
    "print(wide600, wide405)\n",
    "lasers = {\"blue\": wide405, \"red\": wide600}"
   ]
  },
  {
   "cell_type": "code",
   "execution_count": 17,
   "metadata": {},
   "outputs": [],
   "source": [
    "from AMS_BP.configio.convertconfig import make_sample, make_condensatedict, make_samplingfunction, gen_initial_positions, create_track_generator, get_tracks, add_tracks_to_sample"
   ]
  },
  {
   "cell_type": "code",
   "execution_count": null,
   "metadata": {},
   "outputs": [],
   "source": [
    "# make initial sample plane\n",
    "sample_plane = make_sample(\n",
    "    global_params=config_list.GlobalParameters,\n",
    "    cell=rcell,\n",
    ")\n",
    "\n",
    "# make condensates_dict\n",
    "condensates_dict = make_condensatedict(\n",
    "    condensate_params=config_list.CondensateParameters, cell=rcell\n",
    ")\n",
    "\n",
    "# make sampling function\n",
    "sampling_functions = make_samplingfunction(\n",
    "    condensate_params=config_list.CondensateParameters, cell=rcell\n",
    ")\n",
    "\n",
    "# create initial positions\n",
    "initial_molecule_positions = gen_initial_positions(\n",
    "    molecule_params=config_list.MoleculeParameters,\n",
    "    cell=rcell,\n",
    "    condensate_params=config_list.CondensateParameters,\n",
    "    sampling_functions=sampling_functions,\n",
    ")\n",
    "\n",
    "# create the track generator\n",
    "track_generators = create_track_generator(\n",
    "    global_params=config_list.GlobalParameters, cell=rcell\n",
    ")\n",
    "\n",
    "# get all the tracks\n",
    "tracks, points_per_time = get_tracks(\n",
    "    molecule_params=config_list.MoleculeParameters,\n",
    "    global_params=config_list.GlobalParameters,\n",
    "    initial_positions=initial_molecule_positions,\n",
    "    track_generator=track_generators,\n",
    ")\n",
    "\n",
    "# add tracks to sample\n",
    "sample_plane = add_tracks_to_sample(\n",
    "    tracks=tracks, sample_plane=sample_plane, fluorophore= [fpamcherry]\n",
    ")\n"
   ]
  },
  {
   "cell_type": "code",
   "execution_count": 19,
   "metadata": {},
   "outputs": [],
   "source": [
    "from AMS_BP.sim_microscopy import VirtualMicroscope\n",
    "\n",
    "vm = VirtualMicroscope(\n",
    "    camera = (detector, quantum_efficiency),\n",
    "    sample_plane = sample_plane,\n",
    "    lasers = lasers,\n",
    "    channels = channels,\n",
    "    psf = psf_generator,\n",
    "    config = config_list,\n",
    ")"
   ]
  },
  {
   "cell_type": "markdown",
   "metadata": {},
   "source": [
    "# Pulse the 405nm laser once at 0->10 ms time with low power and then again at 100->130 ms with a high power"
   ]
  },
  {
   "cell_type": "code",
   "execution_count": 20,
   "metadata": {},
   "outputs": [],
   "source": [
    "# define a function for the laser power of blue\n",
    "def lpb(t):\n",
    "    # t is in s\n",
    "    if t <= 0.01:\n",
    "        return 0.005\n",
    "    elif t >= 0.1 and t <= 0.13:\n",
    "        return 0.05\n",
    "    else:\n",
    "        return 0"
   ]
  },
  {
   "cell_type": "code",
   "execution_count": 21,
   "metadata": {},
   "outputs": [],
   "source": [
    "total_duration = 200\n",
    "frames, metadata = vm.run_sim(\n",
    "    z_val=0.0,\n",
    "    laser_power={\"red\": 0.5, \"blue\": lpb},\n",
    "    laser_position={\"red\": (5, 5,0), \"blue\": (5, 5,0)},\n",
    "    xyoffset=[0,0],\n",
    "    duration_total=total_duration,\n",
    "    exposure_time=20,\n",
    "    interval_time=0,\n",
    ")"
   ]
  },
  {
   "cell_type": "code",
   "execution_count": null,
   "metadata": {},
   "outputs": [],
   "source": [
    "import matplotlib.pyplot as plt\n",
    "import numpy as np\n",
    "print(frames.shape)\n",
    "num_channels = frames.shape[0]\n",
    "time_frames = frames.shape[1]\n",
    "channel_colors = ['Reds']\n",
    "channel_fluorophores = ['PAmCherry']\n",
    "fig, axes = plt.subplots(num_channels, time_frames, figsize=(10, 6))\n",
    "# normalization from the first frame\n",
    "norm_frames_maxg = [np.max(frames[i, 0,:]) for i in range(num_channels)]\n",
    "norm_frames_ming = [np.min(frames[i, 0,:]) for i in range(num_channels)]\n",
    "\n",
    "power405_time = [lpb(i) for i in np.linspace(0,total_duration*1e-3,1000)]\n",
    "\n",
    "i = 0\n",
    "for j in range(time_frames):\n",
    "    axes[j].imshow(frames[i, j][35:-35, 40:-60], cmap=channel_colors[i], vmin=norm_frames_ming[i], vmax=norm_frames_maxg[i])\n",
    "    axes[j].set_title(f'{(j+1)*20} ms')\n",
    "axes[0].set_ylabel(f'Channel for \\n {channel_fluorophores[i]}')\n",
    "plt.tight_layout()\n",
    "plt.show()\n",
    "\n",
    "fig, ax1 = plt.subplots(figsize=(8, 6))\n",
    "ax2 = ax1.twinx()\n",
    "ax1.plot(np.linspace(0,total_duration,1000), power405_time, color='blue')\n",
    "ax2.plot(np.linspace(0,total_duration,1000), [0.5]*1000, color='red')\n",
    "ax1.set_xlabel('Time (ms)')\n",
    "ax1.tick_params(axis=\"y\", labelcolor=\"blue\")\n",
    "ax1.set_ylabel('405 nm Power (W)', color=\"blue\")\n",
    "ax2.set_ylabel('600 nm Power (W)', color=\"red\")\n",
    "ax2.tick_params(axis=\"y\", labelcolor=\"red\")\n",
    "ax2.set_ylim(0, 2)\n",
    "ax1.set_title('Laser Power')\n",
    "plt.show()"
   ]
  },
  {
   "cell_type": "markdown",
   "metadata": {},
   "source": [
    "## Make a sinusoidal \"pulse\" for the 405 nm laser with a 200 ms period"
   ]
  },
  {
   "cell_type": "code",
   "execution_count": 23,
   "metadata": {},
   "outputs": [],
   "source": [
    "# define a function for the laser power of blue\n",
    "def lpb(t):\n",
    "    # t is in s\n",
    "    return 0.0005 + 0.0005 * np.sin(2. * (np.pi/0.2) * t)"
   ]
  },
  {
   "cell_type": "code",
   "execution_count": null,
   "metadata": {},
   "outputs": [],
   "source": [
    "# reset the microscope\n",
    "vm.reset_to_initial_config()"
   ]
  },
  {
   "cell_type": "code",
   "execution_count": 25,
   "metadata": {},
   "outputs": [],
   "source": [
    "total_duration = 200\n",
    "frames, metadata = vm.run_sim(\n",
    "    z_val=0.0,\n",
    "    laser_power={\"red\": 0.5, \"blue\": lpb},\n",
    "    laser_position={\"red\": (5, 5,0), \"blue\": (5, 5,0)},\n",
    "    xyoffset=[0,0],\n",
    "    duration_total=total_duration,\n",
    "    exposure_time=20,\n",
    "    interval_time=0,\n",
    ")"
   ]
  },
  {
   "cell_type": "code",
   "execution_count": null,
   "metadata": {},
   "outputs": [],
   "source": [
    "num_channels = frames.shape[0]\n",
    "time_frames = frames.shape[1]\n",
    "channel_colors = ['Reds']\n",
    "channel_fluorophores = ['PAmCherry']\n",
    "fig, axes = plt.subplots(num_channels, time_frames, figsize=(10, 6))\n",
    "# normalization from the first frame\n",
    "norm_frames_maxg = [np.max(frames[i, 0,:]) for i in range(num_channels)]\n",
    "norm_frames_ming = [np.min(frames[i, 0,:]) for i in range(num_channels)]\n",
    "\n",
    "power405_time = [lpb(i) for i in np.linspace(0,total_duration*1e-3,1000)]\n",
    "\n",
    "i = 0\n",
    "for j in range(time_frames):\n",
    "    axes[j].imshow(frames[i, j][35:-35, 40:-60], cmap=channel_colors[i], vmin=norm_frames_ming[i], vmax=norm_frames_maxg[i])\n",
    "    axes[j].set_title(f'{(j+1)*20} ms')\n",
    "axes[0].set_ylabel(f'Channel for \\n {channel_fluorophores[i]}')\n",
    "plt.tight_layout()\n",
    "plt.show()\n",
    "\n",
    "fig, ax1 = plt.subplots(figsize=(8, 6))\n",
    "ax2 = ax1.twinx()\n",
    "ax1.plot(np.linspace(0,total_duration,1000), power405_time, color='blue')\n",
    "ax2.plot(np.linspace(0,total_duration,1000), [0.5]*1000, color='red')\n",
    "ax1.set_xlabel('Time (ms)')\n",
    "ax1.tick_params(axis=\"y\", labelcolor=\"blue\")\n",
    "ax1.set_ylabel('405 nm Power (W)', color=\"blue\")\n",
    "ax2.set_ylabel('600 nm Power (W)', color=\"red\")\n",
    "ax2.tick_params(axis=\"y\", labelcolor=\"red\")\n",
    "ax2.set_ylim(0, 2)\n",
    "ax1.set_title('Laser Power')\n",
    "plt.show()\n"
   ]
  },
  {
   "cell_type": "markdown",
   "metadata": {},
   "source": [
    "## The excitation laser power can be changed to a high value to quickly bleach the newly converted molecules such that a molecule does not emit photons for multiple frames."
   ]
  },
  {
   "cell_type": "code",
   "execution_count": null,
   "metadata": {},
   "outputs": [],
   "source": [
    "# reset the microscope\n",
    "vm.reset_to_initial_config()"
   ]
  },
  {
   "cell_type": "markdown",
   "metadata": {},
   "source": [
    "> Change the red laser power from 0.5W (continuous) to 50W (continuous)"
   ]
  },
  {
   "cell_type": "code",
   "execution_count": 28,
   "metadata": {},
   "outputs": [],
   "source": [
    "total_duration = 200\n",
    "frames, metadata = vm.run_sim(\n",
    "    z_val=0.0,\n",
    "    laser_power={\"red\": 50, \"blue\": lpb},\n",
    "    laser_position={\"red\": (5, 5,0), \"blue\": (5, 5,0)},\n",
    "    xyoffset=[0,0],\n",
    "    duration_total=total_duration,\n",
    "    exposure_time=20,\n",
    "    interval_time=0,\n",
    ")"
   ]
  },
  {
   "cell_type": "code",
   "execution_count": null,
   "metadata": {},
   "outputs": [],
   "source": [
    "num_channels = frames.shape[0]\n",
    "time_frames = frames.shape[1]\n",
    "channel_colors = ['Reds']\n",
    "channel_fluorophores = ['PAmCherry']\n",
    "fig, axes = plt.subplots(num_channels, time_frames, figsize=(10, 6))\n",
    "# normalization from the first frame\n",
    "norm_frames_maxg = [np.max(frames[i, 0,:]) for i in range(num_channels)]\n",
    "norm_frames_ming = [np.min(frames[i, 0,:]) for i in range(num_channels)]\n",
    "\n",
    "power405_time = [lpb(i) for i in np.linspace(0,total_duration*1e-3,1000)]\n",
    "\n",
    "i = 0\n",
    "for j in range(time_frames):\n",
    "    axes[j].imshow(frames[i, j][35:-35, 40:-60], cmap=channel_colors[i], vmin=norm_frames_ming[i], vmax=norm_frames_maxg[i])\n",
    "    axes[j].set_title(f'{(j+1)*20} ms')\n",
    "axes[0].set_ylabel(f'Channel for \\n {channel_fluorophores[i]}')\n",
    "plt.tight_layout()\n",
    "plt.show()\n",
    "\n",
    "fig, ax1 = plt.subplots(figsize=(8, 6))\n",
    "ax2 = ax1.twinx()\n",
    "ax1.plot(np.linspace(0,total_duration,1000), power405_time, color='blue')\n",
    "ax2.plot(np.linspace(0,total_duration,1000), [50]*1000, color='red')\n",
    "ax1.set_xlabel('Time (ms)')\n",
    "ax1.tick_params(axis=\"y\", labelcolor=\"blue\")\n",
    "ax1.set_ylabel('405 nm Power (W)', color=\"blue\")\n",
    "ax2.set_ylabel('600 nm Power (W)', color=\"red\")\n",
    "ax2.tick_params(axis=\"y\", labelcolor=\"red\")\n",
    "ax2.set_ylim(0, 100)\n",
    "ax1.set_title('Laser Power')\n",
    "plt.show()"
   ]
  },
  {
   "cell_type": "markdown",
   "metadata": {},
   "source": [
    "# In this notebook we only modulated one active laser. But due to composability of the simulation package we can extend this to any other defined lasers."
   ]
  },
  {
   "cell_type": "code",
   "execution_count": null,
   "metadata": {},
   "outputs": [],
   "source": []
  }
 ],
 "metadata": {
  "kernelspec": {
   "display_name": ".venv",
   "language": "python",
   "name": "python3"
  },
  "language_info": {
   "codemirror_mode": {
    "name": "ipython",
    "version": 3
   },
   "file_extension": ".py",
   "mimetype": "text/x-python",
   "name": "python",
   "nbconvert_exporter": "python",
   "pygments_lexer": "ipython3",
   "version": "3.12.5"
  }
 },
 "nbformat": 4,
 "nbformat_minor": 2
}
